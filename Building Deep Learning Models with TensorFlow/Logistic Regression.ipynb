{
 "cells": [
  {
   "cell_type": "markdown",
   "metadata": {},
   "source": [
    "# Logisitc Regression"
   ]
  },
  {
   "cell_type": "markdown",
   "metadata": {},
   "source": [
    "We download and import the needed modules"
   ]
  },
  {
   "cell_type": "code",
   "execution_count": 1,
   "metadata": {},
   "outputs": [],
   "source": [
    "!pip -q install tensorflow\n",
    "!pip -q install scikit-learn\n",
    "!pip -q install pandas\n",
    "!pip -q install numpy\n",
    "!pip -q install matplotlib"
   ]
  },
  {
   "cell_type": "code",
   "execution_count": 3,
   "metadata": {},
   "outputs": [],
   "source": [
    "import tensorflow as tf\n",
    "import pandas as pd\n",
    "import numpy as np\n",
    "import time\n",
    "from sklearn.datasets import load_iris\n",
    "from sklearn.model_selection import train_test_split\n",
    "import matplotlib.pyplot as plt"
   ]
  },
  {
   "cell_type": "markdown",
   "metadata": {},
   "source": [
    "We check our tensorflow version"
   ]
  },
  {
   "cell_type": "code",
   "execution_count": 4,
   "metadata": {},
   "outputs": [
    {
     "name": "stdout",
     "output_type": "stream",
     "text": [
      "2.16.1\n"
     ]
    }
   ],
   "source": [
    "if tf.__version__:\n",
    "    print(tf.__version__)"
   ]
  },
  {
   "cell_type": "markdown",
   "metadata": {},
   "source": [
    "We load the iris dataset and split it for testing and training"
   ]
  },
  {
   "cell_type": "code",
   "execution_count": 5,
   "metadata": {},
   "outputs": [],
   "source": [
    "iris = load_iris()\n",
    "iris_X, iris_y = iris.data[:-1,:], iris.target[:-1]\n",
    "iris_y= pd.get_dummies(iris_y).values\n",
    "trainX, testX, trainY, testY = train_test_split(iris_X, iris_y, test_size=0.33, random_state=42)"
   ]
  },
  {
   "cell_type": "code",
   "execution_count": 6,
   "metadata": {},
   "outputs": [
    {
     "name": "stdout",
     "output_type": "stream",
     "text": [
      "numFeatures is :  4\n",
      "numLabels is :  3\n"
     ]
    }
   ],
   "source": [
    "numFeatures = trainX.shape[1]\n",
    "print('numFeatures is : ', numFeatures )\n",
    "numLabels = trainY.shape[1]\n",
    "print('numLabels is : ', numLabels )"
   ]
  },
  {
   "cell_type": "markdown",
   "metadata": {},
   "source": [
    "We set our constant tensors from our data"
   ]
  },
  {
   "cell_type": "code",
   "execution_count": 7,
   "metadata": {},
   "outputs": [],
   "source": [
    "trainX = tf.constant(trainX, dtype='float32')\n",
    "trainY = tf.constant(trainY, dtype='float32')\n",
    "testX = tf.constant(testX, dtype='float32')\n",
    "testY = tf.constant(testY, dtype='float32')"
   ]
  },
  {
   "cell_type": "markdown",
   "metadata": {},
   "source": [
    "As our model is set as:\n",
    "\n",
    "$$\\theta (y) = \\dfrac{1}{1+e^{-y}}$$\n",
    "\n",
    "$$y = w0 + w1 \\cdot x1 + w2 \\cdot x2 + \\cdots$$\n",
    "\n",
    "for each predictor $x_i$ setting a weight value $w_i$"
   ]
  },
  {
   "cell_type": "markdown",
   "metadata": {},
   "source": [
    "We set out weight variables and constant b"
   ]
  },
  {
   "cell_type": "code",
   "execution_count": 8,
   "metadata": {},
   "outputs": [],
   "source": [
    "W = tf.Variable(tf.zeros([4, 3]))\n",
    "b = tf.Variable(tf.zeros([3]))"
   ]
  },
  {
   "cell_type": "code",
   "execution_count": 9,
   "metadata": {},
   "outputs": [],
   "source": [
    "weights = tf.Variable(tf.random.normal([numFeatures,numLabels],\n",
    "                                       mean=0.,\n",
    "                                       stddev=0.01,\n",
    "                                       name=\"weights\"),dtype='float32')\n",
    "\n",
    "\n",
    "bias = tf.Variable(tf.random.normal([1,numLabels],\n",
    "                                    mean=0.,\n",
    "                                    stddev=0.01,\n",
    "                                    name=\"bias\"))\n"
   ]
  },
  {
   "cell_type": "markdown",
   "metadata": {},
   "source": [
    "We apply the logistic function"
   ]
  },
  {
   "cell_type": "code",
   "execution_count": 10,
   "metadata": {},
   "outputs": [],
   "source": [
    "def logistic_regression(x):\n",
    "    apply_weights_OP = tf.matmul(x, weights, name=\"apply_weights\")\n",
    "    add_bias_OP = tf.add(apply_weights_OP, bias, name=\"add_bias\") \n",
    "    activation_OP = tf.nn.sigmoid(add_bias_OP, name=\"activation\")\n",
    "    return activation_OP"
   ]
  },
  {
   "cell_type": "markdown",
   "metadata": {},
   "source": [
    "We set our model (We set our loss function as MSE)"
   ]
  },
  {
   "cell_type": "code",
   "execution_count": 11,
   "metadata": {},
   "outputs": [],
   "source": [
    "numEpochs = 700\n",
    "\n",
    "learningRate = tf.keras.optimizers.schedules.ExponentialDecay(initial_learning_rate=0.0008,\n",
    "                                          decay_steps=trainX.shape[0],\n",
    "                                          decay_rate= 0.95,\n",
    "                                          staircase=True)"
   ]
  },
  {
   "cell_type": "code",
   "execution_count": 12,
   "metadata": {},
   "outputs": [],
   "source": [
    "loss_object = tf.keras.losses.MeanSquaredLogarithmicError()\n",
    "optimizer = tf.keras.optimizers.SGD(learningRate)"
   ]
  },
  {
   "cell_type": "code",
   "execution_count": 13,
   "metadata": {},
   "outputs": [],
   "source": [
    "# Accuracy metric.\n",
    "def accuracy(y_pred, y_true):\n",
    "    correct_prediction = tf.equal(tf.argmax(y_pred, 1), tf.argmax(y_true, 1))\n",
    "    return tf.reduce_mean(tf.cast(correct_prediction, tf.float32))"
   ]
  },
  {
   "cell_type": "markdown",
   "metadata": {},
   "source": [
    "We define the Gradient descence optimizer"
   ]
  },
  {
   "cell_type": "code",
   "execution_count": 14,
   "metadata": {},
   "outputs": [],
   "source": [
    "def run_optimization(x, y):\n",
    "    with tf.GradientTape() as g:\n",
    "        pred = logistic_regression(x)\n",
    "        loss = loss_object(pred, y)\n",
    "    gradients = g.gradient(loss, [weights, bias])\n",
    "    optimizer.apply_gradients(zip(gradients, [weights, bias]))"
   ]
  },
  {
   "cell_type": "markdown",
   "metadata": {},
   "source": [
    "We train our model"
   ]
  },
  {
   "cell_type": "code",
   "execution_count": 15,
   "metadata": {},
   "outputs": [
    {
     "name": "stdout",
     "output_type": "stream",
     "text": [
      "step 0, training accuracy 0.3, loss 0.131997, change in loss 0.131997\n",
      "step 10, training accuracy 0.3, loss 0.131463, change in loss 0.000533313\n",
      "step 20, training accuracy 0.3, loss 0.130939, change in loss 0.000524864\n",
      "step 30, training accuracy 0.3, loss 0.130422, change in loss 0.000516474\n",
      "step 40, training accuracy 0.3, loss 0.129914, change in loss 0.000508159\n",
      "step 50, training accuracy 0.3, loss 0.129414, change in loss 0.000499859\n",
      "step 60, training accuracy 0.3, loss 0.128922, change in loss 0.000491664\n",
      "step 70, training accuracy 0.3, loss 0.128439, change in loss 0.000483498\n",
      "step 80, training accuracy 0.3, loss 0.127964, change in loss 0.000475422\n",
      "step 90, training accuracy 0.3, loss 0.127496, change in loss 0.000467435\n",
      "step 100, training accuracy 0.3, loss 0.127041, change in loss 0.000454962\n",
      "step 110, training accuracy 0.3, loss 0.126612, change in loss 0.000429302\n",
      "step 120, training accuracy 0.3, loss 0.12619, change in loss 0.000422299\n",
      "step 130, training accuracy 0.3, loss 0.125774, change in loss 0.000415385\n",
      "step 140, training accuracy 0.3, loss 0.125366, change in loss 0.0004085\n",
      "step 150, training accuracy 0.3, loss 0.124964, change in loss 0.000401743\n",
      "step 160, training accuracy 0.3, loss 0.124569, change in loss 0.000395022\n",
      "step 170, training accuracy 0.3, loss 0.124181, change in loss 0.000388391\n",
      "step 180, training accuracy 0.28, loss 0.123799, change in loss 0.00038185\n",
      "step 190, training accuracy 0.2, loss 0.123423, change in loss 0.000375398\n",
      "step 200, training accuracy 0.16, loss 0.12306, change in loss 0.000363529\n",
      "step 210, training accuracy 0.14, loss 0.122715, change in loss 0.000344835\n",
      "step 220, training accuracy 0.12, loss 0.122376, change in loss 0.000339225\n",
      "step 230, training accuracy 0.14, loss 0.122042, change in loss 0.000333682\n",
      "step 240, training accuracy 0.14, loss 0.121714, change in loss 0.000328235\n",
      "step 250, training accuracy 0.1, loss 0.121391, change in loss 0.000322871\n",
      "step 260, training accuracy 0.16, loss 0.121073, change in loss 0.000317551\n",
      "step 270, training accuracy 0.24, loss 0.120761, change in loss 0.000312336\n",
      "step 280, training accuracy 0.3, loss 0.120454, change in loss 0.000307195\n",
      "step 290, training accuracy 0.3, loss 0.120152, change in loss 0.000302099\n",
      "step 300, training accuracy 0.3, loss 0.119861, change in loss 0.000291213\n",
      "step 310, training accuracy 0.32, loss 0.119583, change in loss 0.000277787\n",
      "step 320, training accuracy 0.32, loss 0.119309, change in loss 0.000273392\n",
      "step 330, training accuracy 0.32, loss 0.11904, change in loss 0.000269078\n",
      "step 340, training accuracy 0.32, loss 0.118775, change in loss 0.000264846\n",
      "step 350, training accuracy 0.32, loss 0.118515, change in loss 0.000260651\n",
      "step 360, training accuracy 0.32, loss 0.118258, change in loss 0.000256531\n",
      "step 370, training accuracy 0.32, loss 0.118006, change in loss 0.000252463\n",
      "step 380, training accuracy 0.32, loss 0.117757, change in loss 0.000248469\n",
      "step 390, training accuracy 0.32, loss 0.117513, change in loss 0.000244536\n",
      "step 400, training accuracy 0.32, loss 0.117278, change in loss 0.000234693\n",
      "step 410, training accuracy 0.32, loss 0.117053, change in loss 0.000225194\n",
      "step 420, training accuracy 0.32, loss 0.116831, change in loss 0.000221796\n",
      "step 430, training accuracy 0.32, loss 0.116613, change in loss 0.000218481\n",
      "step 440, training accuracy 0.32, loss 0.116397, change in loss 0.000215173\n",
      "step 450, training accuracy 0.32, loss 0.116185, change in loss 0.000211962\n",
      "step 460, training accuracy 0.32, loss 0.115977, change in loss 0.000208773\n",
      "step 470, training accuracy 0.32, loss 0.115771, change in loss 0.000205651\n",
      "step 480, training accuracy 0.32, loss 0.115568, change in loss 0.000202559\n",
      "step 490, training accuracy 0.32, loss 0.115369, change in loss 0.000199527\n",
      "step 500, training accuracy 0.32, loss 0.115178, change in loss 0.000190698\n",
      "step 510, training accuracy 0.32, loss 0.114994, change in loss 0.000184067\n",
      "step 520, training accuracy 0.32, loss 0.114813, change in loss 0.000181474\n",
      "step 530, training accuracy 0.32, loss 0.114634, change in loss 0.000178911\n",
      "step 540, training accuracy 0.32, loss 0.114457, change in loss 0.000176385\n",
      "step 550, training accuracy 0.32, loss 0.114284, change in loss 0.000173874\n",
      "step 560, training accuracy 0.32, loss 0.114112, change in loss 0.000171423\n",
      "step 570, training accuracy 0.32, loss 0.113943, change in loss 0.000169031\n",
      "step 580, training accuracy 0.32, loss 0.113776, change in loss 0.000166632\n",
      "step 590, training accuracy 0.32, loss 0.113612, change in loss 0.000164308\n",
      "step 600, training accuracy 0.32, loss 0.113456, change in loss 0.000156388\n",
      "step 610, training accuracy 0.32, loss 0.113304, change in loss 0.00015188\n",
      "step 620, training accuracy 0.32, loss 0.113154, change in loss 0.000149868\n",
      "step 630, training accuracy 0.32, loss 0.113006, change in loss 0.000147887\n",
      "step 640, training accuracy 0.32, loss 0.11286, change in loss 0.000145935\n",
      "step 650, training accuracy 0.32, loss 0.112716, change in loss 0.00014402\n",
      "step 660, training accuracy 0.32, loss 0.112574, change in loss 0.00014212\n",
      "step 670, training accuracy 0.32, loss 0.112434, change in loss 0.000140242\n",
      "step 680, training accuracy 0.32, loss 0.112295, change in loss 0.000138432\n",
      "step 690, training accuracy 0.32, loss 0.112159, change in loss 0.000136621\n",
      "final accuracy on test set: 0.32\n"
     ]
    }
   ],
   "source": [
    "display_step = 10\n",
    "epoch_values = []\n",
    "accuracy_values = []\n",
    "loss_values = []\n",
    "loss = 0\n",
    "diff = 1\n",
    "# Training epochs\n",
    "for i in range(numEpochs):\n",
    "    if i > 1 and diff < .0001:\n",
    "        print(\"change in loss %g; convergence.\"%diff)\n",
    "        break\n",
    "    else:\n",
    "        # Run training step\n",
    "        run_optimization(trainX, trainY)\n",
    "        \n",
    "        # Report occasional stats\n",
    "        if i % display_step == 0:\n",
    "            # Add epoch to epoch_values\n",
    "            epoch_values.append(i)\n",
    "            \n",
    "            pred = logistic_regression(testX)\n",
    "\n",
    "            newLoss = loss_object(pred, testY)\n",
    "            # Add loss to live graphing variable\n",
    "            loss_values.append(newLoss)\n",
    "            \n",
    "            # Generate accuracy stats on test data\n",
    "            acc = accuracy(pred, testY)\n",
    "            accuracy_values.append(acc)\n",
    "            \n",
    "    \n",
    "            # Re-assign values for variables\n",
    "            diff = abs(newLoss - loss)\n",
    "            loss = newLoss\n",
    "\n",
    "            #generate print statements\n",
    "            print(\"step %d, training accuracy %g, loss %g, change in loss %g\"%(i, acc, newLoss, diff))\n",
    "\n",
    "            \n",
    "print(\"final accuracy on test set: %s\" %acc.numpy())"
   ]
  },
  {
   "cell_type": "markdown",
   "metadata": {},
   "source": [
    "We plot our loss function value after each epoch"
   ]
  },
  {
   "cell_type": "code",
   "execution_count": 16,
   "metadata": {},
   "outputs": [
    {
     "data": {
      "image/png": "[encoded data removed]",
      "text/plain": [
       "<Figure size 640x480 with 1 Axes>"
      ]
     },
     "metadata": {},
     "output_type": "display_data"
    }
   ],
   "source": [
    "%matplotlib inline\n",
    "import numpy as np\n",
    "import matplotlib.pyplot as plt\n",
    "plt.xlabel(\"Epoch\")\n",
    "plt.ylabel(\"Loss\")\n",
    "plt.plot(loss_values)\n",
    "plt.show()"
   ]
  },
  {
   "cell_type": "markdown",
   "metadata": {},
   "source": [
    "Created by: <a href=\"https://linkedin.com/in/romeo-kienzler-089b4557\"> Romeo Kienzler </a>, <a href=\"https://br.linkedin.com/in/walter-gomes-de-amorim-junior-624726121\">Saeed Aghabozorgi</a> , <a href=\"https://br.linkedin.com/in/walter-gomes-de-amorim-junior-624726121\">Walter Gomes de Amorim Junior</a> ,  Victor Barros Costa"
   ]
  }
 ],
 "metadata": {
  "kernelspec": {
   "display_name": "Python 3",
   "language": "python",
   "name": "python3"
  },
  "language_info": {
   "codemirror_mode": {
    "name": "ipython",
    "version": 3
   },
   "file_extension": ".py",
   "mimetype": "text/x-python",
   "name": "python",
   "nbconvert_exporter": "python",
   "pygments_lexer": "ipython3",
   "version": "3.11.9"
  }
 },
 "nbformat": 4,
 "nbformat_minor": 2
}
